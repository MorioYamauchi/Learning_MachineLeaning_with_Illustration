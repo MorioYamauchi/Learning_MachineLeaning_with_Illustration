{
 "cells": [
  {
   "cell_type": "markdown",
   "metadata": {},
   "source": [
    "# 学習モデル\n",
    "機械学習の問題の多くは，ある関数をデータから近似するという問題として定式化（パターン化）される．2章では，関数を近似するために用いる様々なモデルを紹介する．"
   ]
  },
  {
   "cell_type": "markdown",
   "metadata": {},
   "source": [
    "## 2.1 線形モデル\n",
    "---\n",
    "　入力が$1$次元（入力が$1$つ）の場合，関数$f$（学習対象の関数）をデータから近似するための一番単純なモデルは，入力に関する線形モデル$\\theta×x$である．ここで，$\\theta$はモデルのパラメータ（スカラー）を表し，このパラメータを学習することにより関数を近似する．しかし，このモデルはパラメータ$\\theta$に関して線形で数学的に扱いやすいが，直線関数しか表現できないため，表現力が乏しく実用的でない．<br>\n",
    " 　そこで，このモデルを非線形の入出力関数も表現できるように拡張したものが，パラメータに関する線形モデルである．<br>\n",
    "\\begin{equation}\n",
    "f_{\\theta}(x)=\\sum_{j=1}^{b}\\phi_{j}(\\theta_{j}x)=\\sum_{j=1}^{b}\\theta_{j}\\phi_{j}(x)=\\boldsymbol{\\theta}^{T}\\phi(x)\n",
    "\\end{equation}\n",
    "　ここで，$\\phi_{j}(x)$は**基底関数**ベクトル$\\phi(x)=(\\phi_{1}(x)...\\phi_{b}(x))^{T}$の第$j$要素を，$\\theta_{j}$はパラメータベクトル$\\theta=(\\theta_{1}...\\theta_{b})^{T}$の第$j$要素を返す．$b$は基底関数の数を，$^{T}$は転置を表す．このモデルはパラメータベクトル$\\theta$に関しては線形なままだが，例えば，基底関数として**多項式**\n",
    "\\begin{equation}\n",
    "    \\phi(x)=(1,x,x^{2},...,x^{b-1})^{T}\n",
    "\\end{equation}\n",
    "や，$b=2m+1$に対して**三角多項式**\n",
    "\\begin{equation}\n",
    "    \\phi(x)=(1,sinx,cosx,...,sinmx,cosmx)^{T}\n",
    "\\end{equation}\n",
    "などを選ぶことにより，複雑な非線形関数を表現できる．<br>\n",
    "　このモデルは，$d$次元の入力ベクトル$x=(x^{(1)},...,x^{(d)})^{T}$にも拡張できる．\n",
    "\\begin{equation}\n",
    "    f_{\\theta}(x)=\\sum_{j=1}^{b}\\theta_{j}\\phi_{j}(\\boldsymbol{x})=\\boldsymbol{\\theta}^{T}\\phi(\\boldsymbol{x})\n",
    "\\end{equation}\n",
    "多次元の入力ベクトル（入力が複数）$\\boldsymbol{x}$に対しては基底関数をどのように選べばよいのか？<br>\n",
    "以下では，$1$次元の基底関数を持ちいて多次元の基底関数を構成する乗法モデルと加法モデルを紹介する．\n"
   ]
  },
  {
   "cell_type": "markdown",
   "metadata": {},
   "source": [
    "# 2.2 カーネルモデル"
   ]
  },
  {
   "cell_type": "code",
   "execution_count": null,
   "metadata": {},
   "outputs": [],
   "source": []
  }
 ],
 "metadata": {
  "kernelspec": {
   "display_name": "Python 3",
   "language": "python",
   "name": "python3"
  },
  "language_info": {
   "codemirror_mode": {
    "name": "ipython",
    "version": 3
   },
   "file_extension": ".py",
   "mimetype": "text/x-python",
   "name": "python",
   "nbconvert_exporter": "python",
   "pygments_lexer": "ipython3",
   "version": "3.7.1"
  }
 },
 "nbformat": 4,
 "nbformat_minor": 2
}
